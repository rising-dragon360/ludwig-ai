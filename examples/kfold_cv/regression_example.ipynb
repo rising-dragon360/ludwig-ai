{
 "cells": [
  {
   "cell_type": "markdown",
   "metadata": {},
   "source": [
    "# K-fold cross validation - Regression Model\n",
    "Based on the [Ludwig regression example](https://ludwig-ai.github.io/ludwig-docs/examples/#simple-regression-fuel-efficiency-prediction)  \n",
    "\n",
    "[Data set](https://archive.ics.uci.edu/ml/datasets/auto+mpg)\n",
    "\n",
    "This example demonstrates teh following:\n",
    "\n",
    "- Download a data set and create a pandas dataframe\n",
    "- Create a training and hold-out test data sets\n",
    "- Create a Ludwig model definition data structure from the pandas dataframe\n",
    "- Run a 5-fold cross validation analysis with the training data\n",
    "- Use Ludwig APIs to train and assess model performance on hold-out test data set"
   ]
  },
  {
   "cell_type": "code",
   "execution_count": 1,
   "metadata": {},
   "outputs": [],
   "source": [
    "import logging\n",
    "import os\n",
    "import os.path\n",
    "import shutil\n",
    "import tempfile\n",
    "\n",
    "import matplotlib.pyplot as plt\n",
    "import numpy as np\n",
    "import pandas as pd\n",
    "import requests\n",
    "import scipy.stats as stats\n",
    "import seaborn as sns\n",
    "from sklearn.model_selection import train_test_split\n",
    "\n",
    "from ludwig.api import kfold_cross_validate, LudwigModel"
   ]
  },
  {
   "cell_type": "markdown",
   "metadata": {},
   "source": [
    "## Contstants"
   ]
  },
  {
   "cell_type": "code",
   "execution_count": 2,
   "metadata": {},
   "outputs": [],
   "source": [
    "DATA_SET_URL = 'http://archive.ics.uci.edu/ml/machine-learning-databases/auto-mpg/auto-mpg.data'\n",
    "DATA_SET = 'auto_mpg.data'\n",
    "RESULTS_DIR = 'results'"
   ]
  },
  {
   "cell_type": "markdown",
   "metadata": {},
   "source": [
    "## Clean out previous results"
   ]
  },
  {
   "cell_type": "code",
   "execution_count": 3,
   "metadata": {},
   "outputs": [],
   "source": [
    "if os.path.isfile(DATA_SET):\n",
    "    os.remove(DATA_SET)\n",
    "    \n",
    "shutil.rmtree(RESULTS_DIR, ignore_errors=True)"
   ]
  },
  {
   "cell_type": "markdown",
   "metadata": {},
   "source": [
    "## Retrieve data from UCI Machine Learning Repository"
   ]
  },
  {
   "cell_type": "markdown",
   "metadata": {},
   "source": [
    "### Download required data"
   ]
  },
  {
   "cell_type": "code",
   "execution_count": 4,
   "metadata": {},
   "outputs": [],
   "source": [
    "r = requests.get(DATA_SET_URL)\n",
    "if r.status_code == 200:\n",
    "    with open(DATA_SET,'w') as f:\n",
    "        f.write(r.content.decode(\"utf-8\"))"
   ]
  },
  {
   "cell_type": "markdown",
   "metadata": {},
   "source": [
    "### Create Pandas DataFrame from downloaded data"
   ]
  },
  {
   "cell_type": "code",
   "execution_count": 5,
   "metadata": {},
   "outputs": [
    {
     "data": {
      "text/plain": [
       "(398, 8)"
      ]
     },
     "execution_count": 5,
     "metadata": {},
     "output_type": "execute_result"
    }
   ],
   "source": [
    "raw_df = pd.read_csv(DATA_SET,\n",
    "                     header=None,\n",
    "                      na_values = \"?\", comment='\\t',\n",
    "                      sep=\" \", skipinitialspace=True)\n",
    "\n",
    "\n",
    "raw_df.columns = ['MPG','Cylinders','Displacement','Horsepower','Weight',\n",
    "                'Acceleration', 'ModelYear', 'Origin']\n",
    "raw_df.shape"
   ]
  },
  {
   "cell_type": "code",
   "execution_count": 6,
   "metadata": {},
   "outputs": [
    {
     "data": {
      "text/html": [
       "<div>\n",
       "<style scoped>\n",
       "    .dataframe tbody tr th:only-of-type {\n",
       "        vertical-align: middle;\n",
       "    }\n",
       "\n",
       "    .dataframe tbody tr th {\n",
       "        vertical-align: top;\n",
       "    }\n",
       "\n",
       "    .dataframe thead th {\n",
       "        text-align: right;\n",
       "    }\n",
       "</style>\n",
       "<table border=\"1\" class=\"dataframe\">\n",
       "  <thead>\n",
       "    <tr style=\"text-align: right;\">\n",
       "      <th></th>\n",
       "      <th>MPG</th>\n",
       "      <th>Cylinders</th>\n",
       "      <th>Displacement</th>\n",
       "      <th>Horsepower</th>\n",
       "      <th>Weight</th>\n",
       "      <th>Acceleration</th>\n",
       "      <th>ModelYear</th>\n",
       "      <th>Origin</th>\n",
       "    </tr>\n",
       "  </thead>\n",
       "  <tbody>\n",
       "    <tr>\n",
       "      <th>0</th>\n",
       "      <td>18.0</td>\n",
       "      <td>8</td>\n",
       "      <td>307.0</td>\n",
       "      <td>130.0</td>\n",
       "      <td>3504.0</td>\n",
       "      <td>12.0</td>\n",
       "      <td>70</td>\n",
       "      <td>1</td>\n",
       "    </tr>\n",
       "    <tr>\n",
       "      <th>1</th>\n",
       "      <td>15.0</td>\n",
       "      <td>8</td>\n",
       "      <td>350.0</td>\n",
       "      <td>165.0</td>\n",
       "      <td>3693.0</td>\n",
       "      <td>11.5</td>\n",
       "      <td>70</td>\n",
       "      <td>1</td>\n",
       "    </tr>\n",
       "    <tr>\n",
       "      <th>2</th>\n",
       "      <td>18.0</td>\n",
       "      <td>8</td>\n",
       "      <td>318.0</td>\n",
       "      <td>150.0</td>\n",
       "      <td>3436.0</td>\n",
       "      <td>11.0</td>\n",
       "      <td>70</td>\n",
       "      <td>1</td>\n",
       "    </tr>\n",
       "    <tr>\n",
       "      <th>3</th>\n",
       "      <td>16.0</td>\n",
       "      <td>8</td>\n",
       "      <td>304.0</td>\n",
       "      <td>150.0</td>\n",
       "      <td>3433.0</td>\n",
       "      <td>12.0</td>\n",
       "      <td>70</td>\n",
       "      <td>1</td>\n",
       "    </tr>\n",
       "    <tr>\n",
       "      <th>4</th>\n",
       "      <td>17.0</td>\n",
       "      <td>8</td>\n",
       "      <td>302.0</td>\n",
       "      <td>140.0</td>\n",
       "      <td>3449.0</td>\n",
       "      <td>10.5</td>\n",
       "      <td>70</td>\n",
       "      <td>1</td>\n",
       "    </tr>\n",
       "  </tbody>\n",
       "</table>\n",
       "</div>"
      ],
      "text/plain": [
       "    MPG  Cylinders  Displacement  Horsepower  Weight  Acceleration  ModelYear  \\\n",
       "0  18.0          8         307.0       130.0  3504.0          12.0         70   \n",
       "1  15.0          8         350.0       165.0  3693.0          11.5         70   \n",
       "2  18.0          8         318.0       150.0  3436.0          11.0         70   \n",
       "3  16.0          8         304.0       150.0  3433.0          12.0         70   \n",
       "4  17.0          8         302.0       140.0  3449.0          10.5         70   \n",
       "\n",
       "   Origin  \n",
       "0       1  \n",
       "1       1  \n",
       "2       1  \n",
       "3       1  \n",
       "4       1  "
      ]
     },
     "execution_count": 6,
     "metadata": {},
     "output_type": "execute_result"
    }
   ],
   "source": [
    "raw_df.head()"
   ]
  },
  {
   "cell_type": "markdown",
   "metadata": {},
   "source": [
    "### Create train/test split"
   ]
  },
  {
   "cell_type": "code",
   "execution_count": 7,
   "metadata": {},
   "outputs": [
    {
     "name": "stdout",
     "output_type": "stream",
     "text": [
      "(318, 8)\n",
      "(80, 8)\n"
     ]
    }
   ],
   "source": [
    "train_df, test_df = train_test_split(raw_df, train_size=0.8, random_state=17)\n",
    "print(train_df.shape)\n",
    "print(test_df.shape)"
   ]
  },
  {
   "cell_type": "markdown",
   "metadata": {},
   "source": [
    "## Setup Ludwig model definition"
   ]
  },
  {
   "cell_type": "code",
   "execution_count": 8,
   "metadata": {},
   "outputs": [],
   "source": [
    "num_features = ['Cylinders', 'Displacement', 'Horsepower', 'Weight', 'Acceleration', 'ModelYear']\n",
    "cat_features = ['Origin']"
   ]
  },
  {
   "cell_type": "markdown",
   "metadata": {},
   "source": [
    "### Create Ludwig input_features"
   ]
  },
  {
   "cell_type": "code",
   "execution_count": 9,
   "metadata": {},
   "outputs": [],
   "source": [
    "input_features = []\n",
    "# setup input features for numerical variables\n",
    "for p in num_features:\n",
    "    a_feature = {'name': p, 'type': 'numerical', \n",
    "                'preprocessing': {'missing_value_strategy': 'fill_with_mean', 'normalization': 'zscore'}}\n",
    "    input_features.append(a_feature)\n",
    "\n",
    "# setkup input features for categorical variables\n",
    "for p in cat_features:\n",
    "    a_feature = {'name': p, 'type': 'category'}"
   ]
  },
  {
   "cell_type": "markdown",
   "metadata": {},
   "source": [
    "### Create Ludwig output features"
   ]
  },
  {
   "cell_type": "code",
   "execution_count": 10,
   "metadata": {},
   "outputs": [],
   "source": [
    "output_features =[\n",
    "    {\n",
    "        'name': 'MPG',\n",
    "        'type': 'numerical',\n",
    "        'num_fc_layers': 2,\n",
    "        'fc_size': 64\n",
    "    }\n",
    "]"
   ]
  },
  {
   "cell_type": "code",
   "execution_count": 11,
   "metadata": {},
   "outputs": [
    {
     "data": {
      "text/plain": [
       "{'input_features': [{'name': 'Cylinders',\n",
       "   'type': 'numerical',\n",
       "   'preprocessing': {'missing_value_strategy': 'fill_with_mean',\n",
       "    'normalization': 'zscore'}},\n",
       "  {'name': 'Displacement',\n",
       "   'type': 'numerical',\n",
       "   'preprocessing': {'missing_value_strategy': 'fill_with_mean',\n",
       "    'normalization': 'zscore'}},\n",
       "  {'name': 'Horsepower',\n",
       "   'type': 'numerical',\n",
       "   'preprocessing': {'missing_value_strategy': 'fill_with_mean',\n",
       "    'normalization': 'zscore'}},\n",
       "  {'name': 'Weight',\n",
       "   'type': 'numerical',\n",
       "   'preprocessing': {'missing_value_strategy': 'fill_with_mean',\n",
       "    'normalization': 'zscore'}},\n",
       "  {'name': 'Acceleration',\n",
       "   'type': 'numerical',\n",
       "   'preprocessing': {'missing_value_strategy': 'fill_with_mean',\n",
       "    'normalization': 'zscore'}},\n",
       "  {'name': 'ModelYear',\n",
       "   'type': 'numerical',\n",
       "   'preprocessing': {'missing_value_strategy': 'fill_with_mean',\n",
       "    'normalization': 'zscore'}}],\n",
       " 'output_features': [{'name': 'MPG',\n",
       "   'type': 'numerical',\n",
       "   'num_fc_layers': 2,\n",
       "   'fc_size': 64}],\n",
       " 'training': {'epochs': 100, 'batch_size': 32}}"
      ]
     },
     "execution_count": 11,
     "metadata": {},
     "output_type": "execute_result"
    }
   ],
   "source": [
    "model_definition = {\n",
    "    'input_features' : input_features,\n",
    "    'output_features': output_features,\n",
    "    'training' :{\n",
    "        'epochs': 100,\n",
    "        'batch_size': 32\n",
    "    }\n",
    "}\n",
    "model_definition"
   ]
  },
  {
   "cell_type": "markdown",
   "metadata": {},
   "source": [
    "## Perform K-fold Cross Validation analysis"
   ]
  },
  {
   "cell_type": "code",
   "execution_count": 12,
   "metadata": {},
   "outputs": [
    {
     "name": "stdout",
     "output_type": "stream",
     "text": [
      "starting 5-fold cross validation\n",
      "training on fold 1\n",
      "CPU times: user 38.4 s, sys: 4.81 s, total: 43.2 s\n",
      "Wall time: 39.3 s\n"
     ]
    }
   ],
   "source": [
    "%%time\n",
    "with tempfile.TemporaryDirectory() as tmpdir:\n",
    "    data_csv_fp = os.path.join(tmpdir,'train.csv')\n",
    "    train_df.to_csv(data_csv_fp, index=False)\n",
    "\n",
    "    (\n",
    "        kfold_cv_stats, \n",
    "        kfold_split_indices \n",
    "    ) = kfold_cross_validate(\n",
    "        num_folds=5,\n",
    "        model_definition=model_definition,\n",
    "        dataset=data_csv_fp,\n",
    "        output_directory=tmpdir,\n",
    "        logging_level=logging.ERROR\n",
    "    )\n"
   ]
  },
  {
   "cell_type": "code",
   "execution_count": 13,
   "metadata": {},
   "outputs": [
    {
     "data": {
      "text/plain": [
       "{'loss_mean': 8.124675,\n",
       " 'loss_std': 2.4719474,\n",
       " 'mean_squared_error_mean': 8.124675,\n",
       " 'mean_squared_error_std': 2.4719474,\n",
       " 'mean_absolute_error_mean': 2.05942,\n",
       " 'mean_absolute_error_std': 0.27946717,\n",
       " 'r2_mean': 0.8665186,\n",
       " 'r2_std': 0.03554108,\n",
       " 'error_mean': 0.038788054,\n",
       " 'error_std': 0.593903}"
      ]
     },
     "execution_count": 13,
     "metadata": {},
     "output_type": "execute_result"
    }
   ],
   "source": [
    "kfold_cv_stats['overall']['MPG']"
   ]
  },
  {
   "cell_type": "markdown",
   "metadata": {},
   "source": [
    "## Train model and assess model performance"
   ]
  },
  {
   "cell_type": "code",
   "execution_count": 14,
   "metadata": {},
   "outputs": [],
   "source": [
    "model = LudwigModel(\n",
    "    model_definition=model_definition,\n",
    "    logging_level=logging.ERROR\n",
    ")"
   ]
  },
  {
   "cell_type": "code",
   "execution_count": 15,
   "metadata": {},
   "outputs": [
    {
     "name": "stdout",
     "output_type": "stream",
     "text": [
      "CPU times: user 7.21 s, sys: 1.55 s, total: 8.76 s\n",
      "Wall time: 13.4 s\n"
     ]
    }
   ],
   "source": [
    "%%time\n",
    "training_stats = model.train(\n",
    "    training_set=train_df,\n",
    "    output_directory=RESULTS_DIR,\n",
    ")"
   ]
  },
  {
   "cell_type": "code",
   "execution_count": 16,
   "metadata": {},
   "outputs": [
    {
     "name": "stderr",
     "output_type": "stream",
     "text": [
      "/opt/project/ludwig/data/preprocessing.py:1066: SettingWithCopyWarning: \n",
      "A value is trying to be set on a copy of a slice from a DataFrame.\n",
      "Try using .loc[row_indexer,col_indexer] = value instead\n",
      "\n",
      "See the caveats in the documentation: https://pandas.pydata.org/pandas-docs/stable/user_guide/indexing.html#returning-a-view-versus-a-copy\n",
      "  dataset_df[feature[NAME]].mean(),\n",
      "/opt/project/ludwig/data/preprocessing.py:1053: SettingWithCopyWarning: \n",
      "A value is trying to be set on a copy of a slice from a DataFrame.\n",
      "Try using .loc[row_indexer,col_indexer] = value instead\n",
      "\n",
      "See the caveats in the documentation: https://pandas.pydata.org/pandas-docs/stable/user_guide/indexing.html#returning-a-view-versus-a-copy\n",
      "  preprocessing_parameters['fill_value'],\n"
     ]
    }
   ],
   "source": [
    "test_stats, mpg_hat_df, _ = model.evaluate(dataset=test_df, collect_predictions=True, collect_overall_stats=True)"
   ]
  },
  {
   "cell_type": "code",
   "execution_count": 17,
   "metadata": {},
   "outputs": [
    {
     "data": {
      "text/plain": [
       "{'MPG': {'loss': 8.2818165,\n",
       "  'mean_squared_error': 8.2818165,\n",
       "  'mean_absolute_error': 2.2245004,\n",
       "  'r2': 0.8561971,\n",
       "  'error': -0.45393538},\n",
       " 'combined': {'loss': 8.2818165}}"
      ]
     },
     "execution_count": 17,
     "metadata": {},
     "output_type": "execute_result"
    }
   ],
   "source": [
    "test_stats"
   ]
  },
  {
   "cell_type": "code",
   "execution_count": 18,
   "metadata": {},
   "outputs": [
    {
     "name": "stderr",
     "output_type": "stream",
     "text": [
      "/usr/local/lib/python3.6/dist-packages/seaborn/_decorators.py:43: FutureWarning: Pass the following variables as keyword args: x, y. From version 0.12, the only valid positional argument will be `data`, and passing other arguments without an explicit keyword will result in an error or misinterpretation.\n",
      "  FutureWarning\n"
     ]
    },
    {
     "data": {
      "image/png": "[encoded data removed]",
      "text/plain": [
       "<Figure size 432x288 with 1 Axes>"
      ]
     },
     "metadata": {
      "needs_background": "light"
     },
     "output_type": "display_data"
    }
   ],
   "source": [
    "a = plt.axes(aspect='equal')\n",
    "sns.scatterplot(test_df['MPG'].values, mpg_hat_df['MPG_predictions'].values,\n",
    "               s=50)\n",
    "plt.xlabel('True Values [MPG]')\n",
    "plt.ylabel('Predictions [MPG]')\n",
    "lims = [0, 50]\n",
    "plt.xlim(lims)\n",
    "plt.ylim(lims)\n",
    "_ = plt.plot(lims, lims)\n"
   ]
  },
  {
   "cell_type": "markdown",
   "metadata": {},
   "source": [
    "## Compare K-fold Cross Validation metrics against hold-out test metrics"
   ]
  },
  {
   "cell_type": "markdown",
   "metadata": {},
   "source": [
    "### Hold-out Test Metrics"
   ]
  },
  {
   "cell_type": "code",
   "execution_count": 19,
   "metadata": {},
   "outputs": [
    {
     "data": {
      "text/plain": [
       "{'loss': 8.2818165,\n",
       " 'mean_squared_error': 8.2818165,\n",
       " 'mean_absolute_error': 2.2245004,\n",
       " 'r2': 0.8561971,\n",
       " 'error': -0.45393538}"
      ]
     },
     "execution_count": 19,
     "metadata": {},
     "output_type": "execute_result"
    }
   ],
   "source": [
    "test_stats['MPG']"
   ]
  },
  {
   "cell_type": "markdown",
   "metadata": {},
   "source": [
    "### K-fold Cross Validation Metrics"
   ]
  },
  {
   "cell_type": "code",
   "execution_count": 20,
   "metadata": {},
   "outputs": [
    {
     "data": {
      "text/plain": [
       "{'loss_mean': 8.124675,\n",
       " 'loss_std': 2.4719474,\n",
       " 'mean_squared_error_mean': 8.124675,\n",
       " 'mean_squared_error_std': 2.4719474,\n",
       " 'mean_absolute_error_mean': 2.05942,\n",
       " 'mean_absolute_error_std': 0.27946717,\n",
       " 'r2_mean': 0.8665186,\n",
       " 'r2_std': 0.03554108,\n",
       " 'error_mean': 0.038788054,\n",
       " 'error_std': 0.593903}"
      ]
     },
     "execution_count": 20,
     "metadata": {},
     "output_type": "execute_result"
    }
   ],
   "source": [
    "kfold_cv_stats['overall']['MPG']"
   ]
  },
  {
   "cell_type": "code",
   "execution_count": null,
   "metadata": {},
   "outputs": [],
   "source": []
  }
 ],
 "metadata": {
  "kernelspec": {
   "display_name": "Python 3",
   "language": "python",
   "name": "python3"
  },
  "language_info": {
   "codemirror_mode": {
    "name": "ipython",
    "version": 3
   },
   "file_extension": ".py",
   "mimetype": "text/x-python",
   "name": "python",
   "nbconvert_exporter": "python",
   "pygments_lexer": "ipython3",
   "version": "3.6.9"
  }
 },
 "nbformat": 4,
 "nbformat_minor": 4
}
