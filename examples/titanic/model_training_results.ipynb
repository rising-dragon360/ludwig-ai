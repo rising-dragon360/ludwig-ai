{
 "cells": [
  {
   "cell_type": "markdown",
   "metadata": {},
   "source": [
    "# Custom Analysis of Training Results\n",
    "\n",
    "This notebook is dependent on running the multiple model training example beforehand.  To run the mulitple model training example, enter this command:\n",
    "``` \n",
    "python multiple_model_training.py\n",
    "```"
   ]
  },
  {
   "cell_type": "markdown",
   "metadata": {},
   "source": [
    "## Import required libraries"
   ]
  },
  {
   "cell_type": "code",
   "execution_count": 1,
   "metadata": {
    "pycharm": {
     "is_executing": false
    }
   },
   "outputs": [],
   "source": [
    "from ludwig.utils.data_utils import load_json\n",
    "import pandas as pd\n",
    "import numpy as np\n",
    "import os.path\n",
    "import matplotlib.pyplot as plt\n",
    "import seaborn as sns"
   ]
  },
  {
   "cell_type": "markdown",
   "metadata": {},
   "source": [
    "## Helper function to collect training statistics"
   ]
  },
  {
   "cell_type": "code",
   "execution_count": 2,
   "metadata": {},
   "outputs": [],
   "source": [
    "# function to generate pandas data frame from training statistcs\n",
    "# Parameter:\n",
    "#   experiment_model_dir: directory containing the training statistics for a specific model training experiment\n",
    "#\n",
    "# Returns: pandas dataframe containing the performance metric and loss\n",
    "#\n",
    "\n",
    "def extract_training_stats(experiment_model_dir):\n",
    "    list_of_splits = ['train', 'validation', 'test']\n",
    "    list_of_df = []\n",
    "    for split in list_of_splits:\n",
    "        train_stats = load_json(os.path.join(experiment_model_dir,'training_statistics.json'))\n",
    "        df = pd.DataFrame(train_stats[split]['combined'])\n",
    "        df.columns = [split + '_' + c for c in df.columns]\n",
    "        list_of_df.append(df)\n",
    "        \n",
    "    df = pd.concat(list_of_df, axis=1)\n",
    "    df['epoch'] = df.index + 1\n",
    "        \n",
    "    return df"
   ]
  },
  {
   "cell_type": "markdown",
   "metadata": {},
   "source": [
    "## Retrieve training results"
   ]
  },
  {
   "cell_type": "code",
   "execution_count": 3,
   "metadata": {
    "pycharm": {
     "is_executing": false
    }
   },
   "outputs": [],
   "source": [
    "model1 = extract_training_stats('./results/multiple_experiment_model1')\n",
    "model1.name = 'model1'\n",
    "model2 = extract_training_stats('./results/multiple_experiment_model2')\n",
    "model2.name = 'model2'"
   ]
  },
  {
   "cell_type": "code",
   "execution_count": 4,
   "metadata": {},
   "outputs": [
    {
     "data": {
      "text/html": [
       "<div>\n",
       "<style scoped>\n",
       "    .dataframe tbody tr th:only-of-type {\n",
       "        vertical-align: middle;\n",
       "    }\n",
       "\n",
       "    .dataframe tbody tr th {\n",
       "        vertical-align: top;\n",
       "    }\n",
       "\n",
       "    .dataframe thead th {\n",
       "        text-align: right;\n",
       "    }\n",
       "</style>\n",
       "<table border=\"1\" class=\"dataframe\">\n",
       "  <thead>\n",
       "    <tr style=\"text-align: right;\">\n",
       "      <th></th>\n",
       "      <th>train_accuracy</th>\n",
       "      <th>train_loss</th>\n",
       "      <th>validation_accuracy</th>\n",
       "      <th>validation_loss</th>\n",
       "      <th>test_accuracy</th>\n",
       "      <th>test_loss</th>\n",
       "      <th>epoch</th>\n",
       "    </tr>\n",
       "  </thead>\n",
       "  <tbody>\n",
       "    <tr>\n",
       "      <th>0</th>\n",
       "      <td>0.409524</td>\n",
       "      <td>7.737999</td>\n",
       "      <td>0.382716</td>\n",
       "      <td>7.347490</td>\n",
       "      <td>0.366667</td>\n",
       "      <td>8.715970</td>\n",
       "      <td>1</td>\n",
       "    </tr>\n",
       "    <tr>\n",
       "      <th>1</th>\n",
       "      <td>0.409524</td>\n",
       "      <td>7.510082</td>\n",
       "      <td>0.382716</td>\n",
       "      <td>7.114163</td>\n",
       "      <td>0.366667</td>\n",
       "      <td>8.464039</td>\n",
       "      <td>2</td>\n",
       "    </tr>\n",
       "    <tr>\n",
       "      <th>2</th>\n",
       "      <td>0.409524</td>\n",
       "      <td>7.282940</td>\n",
       "      <td>0.382716</td>\n",
       "      <td>6.881856</td>\n",
       "      <td>0.361111</td>\n",
       "      <td>8.212920</td>\n",
       "      <td>3</td>\n",
       "    </tr>\n",
       "    <tr>\n",
       "      <th>3</th>\n",
       "      <td>0.409524</td>\n",
       "      <td>7.056905</td>\n",
       "      <td>0.382716</td>\n",
       "      <td>6.651102</td>\n",
       "      <td>0.361111</td>\n",
       "      <td>7.963031</td>\n",
       "      <td>4</td>\n",
       "    </tr>\n",
       "    <tr>\n",
       "      <th>4</th>\n",
       "      <td>0.411111</td>\n",
       "      <td>6.832341</td>\n",
       "      <td>0.395062</td>\n",
       "      <td>6.422439</td>\n",
       "      <td>0.361111</td>\n",
       "      <td>7.714831</td>\n",
       "      <td>5</td>\n",
       "    </tr>\n",
       "  </tbody>\n",
       "</table>\n",
       "</div>"
      ],
      "text/plain": [
       "   train_accuracy  train_loss  validation_accuracy  validation_loss  \\\n",
       "0        0.409524    7.737999             0.382716         7.347490   \n",
       "1        0.409524    7.510082             0.382716         7.114163   \n",
       "2        0.409524    7.282940             0.382716         6.881856   \n",
       "3        0.409524    7.056905             0.382716         6.651102   \n",
       "4        0.411111    6.832341             0.395062         6.422439   \n",
       "\n",
       "   test_accuracy  test_loss  epoch  \n",
       "0       0.366667   8.715970      1  \n",
       "1       0.366667   8.464039      2  \n",
       "2       0.361111   8.212920      3  \n",
       "3       0.361111   7.963031      4  \n",
       "4       0.361111   7.714831      5  "
      ]
     },
     "execution_count": 4,
     "metadata": {},
     "output_type": "execute_result"
    }
   ],
   "source": [
    "model1.head()"
   ]
  },
  {
   "cell_type": "markdown",
   "metadata": {},
   "source": [
    "## Helper function to generate plot ready data"
   ]
  },
  {
   "cell_type": "code",
   "execution_count": 5,
   "metadata": {},
   "outputs": [],
   "source": [
    "# create pandas dataframe suitable for plotting learning curves\n",
    "# Parameters\n",
    "#   train_df_list: list of pandas datatframe containing training statistics\n",
    "#\n",
    "# Returns: plot ready pandas dataframe\n",
    "\n",
    "def create_plot_ready_data(list_of_train_stats_df):\n",
    "    # holding ready for plot ready data\n",
    "    plot_ready_list = []\n",
    "    \n",
    "    # consolidate the multiple training statistics dataframes\n",
    "    for df in list_of_train_stats_df:\n",
    "        for col in ['train', 'validation']:\n",
    "            df2 = df[[\"epoch\", col + \"_accuracy\"]].copy()\n",
    "            df2.columns = ['epoch', 'accuracy']\n",
    "            df2['type'] = col\n",
    "            df2['model'] = df.name\n",
    "            plot_ready_list.append(df2)\n",
    "\n",
    "    return pd.concat(plot_ready_list, axis=0, ignore_index=True)\n"
   ]
  },
  {
   "cell_type": "markdown",
   "metadata": {},
   "source": [
    "## Generate Annotated Learning Curves"
   ]
  },
  {
   "cell_type": "code",
   "execution_count": 6,
   "metadata": {},
   "outputs": [],
   "source": [
    "# create plot ready data\n",
    "learning_curves = create_plot_ready_data([model1, model2])"
   ]
  },
  {
   "cell_type": "code",
   "execution_count": 7,
   "metadata": {},
   "outputs": [
    {
     "data": {
      "text/plain": [
       "Text(0.5, 1.0, 'Learning Curves')"
      ]
     },
     "execution_count": 7,
     "metadata": {},
     "output_type": "execute_result"
    },
    {
     "data": {
      "image/png": "[encoded data removed]",
      "text/plain": [
       "<Figure size 720x432 with 1 Axes>"
      ]
     },
     "metadata": {
      "needs_background": "light"
     },
     "output_type": "display_data"
    }
   ],
   "source": [
    "# Plot learning curves for the different models\n",
    "fig = plt.figure(figsize=(10,6))\n",
    "sns.set_style(style='dark')\n",
    "ax = sns.lineplot(x=\"epoch\", y=\"accuracy\",\n",
    "             style=\"type\",\n",
    "             hue='model',\n",
    "             data=learning_curves)\n",
    "ax.set_title('Learning Curves', fontdict={'fontsize': 16})"
   ]
  },
  {
   "cell_type": "code",
   "execution_count": 8,
   "metadata": {},
   "outputs": [],
   "source": [
    "fig.savefig('./visualizations/custom_learning_curve.png')"
   ]
  },
  {
   "cell_type": "code",
   "execution_count": null,
   "metadata": {},
   "outputs": [],
   "source": []
  }
 ],
 "metadata": {
  "kernelspec": {
   "display_name": "Python 3",
   "language": "python",
   "name": "python3"
  },
  "language_info": {
   "codemirror_mode": {
    "name": "ipython",
    "version": 3
   },
   "file_extension": ".py",
   "mimetype": "text/x-python",
   "name": "python",
   "nbconvert_exporter": "python",
   "pygments_lexer": "ipython3",
   "version": "3.6.8"
  }
 },
 "nbformat": 4,
 "nbformat_minor": 2
}
