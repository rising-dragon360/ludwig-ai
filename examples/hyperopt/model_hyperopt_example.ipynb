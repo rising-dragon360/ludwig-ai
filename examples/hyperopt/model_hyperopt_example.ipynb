{
 "cells": [
  {
   "cell_type": "markdown",
   "metadata": {},
   "source": [
    "# Hyperparameter Optimization with Hyperopt\n",
    "\n"
   ]
  },
  {
   "cell_type": "markdown",
   "metadata": {},
   "source": [
    "## Install Hyperopt package"
   ]
  },
  {
   "cell_type": "code",
   "execution_count": 1,
   "metadata": {},
   "outputs": [
    {
     "name": "stdout",
     "output_type": "stream",
     "text": [
      "Requirement already satisfied: hyperopt in /usr/local/lib/python3.6/dist-packages (0.2.2)\n",
      "Requirement already satisfied: future in /usr/local/lib/python3.6/dist-packages (from hyperopt) (0.18.2)\n",
      "Requirement already satisfied: tqdm in /usr/local/lib/python3.6/dist-packages (from hyperopt) (4.36.1)\n",
      "Requirement already satisfied: six in /usr/lib/python3/dist-packages (from hyperopt) (1.11.0)\n",
      "Requirement already satisfied: numpy in /usr/local/lib/python3.6/dist-packages (from hyperopt) (1.17.3)\n",
      "Requirement already satisfied: networkx==2.2 in /usr/local/lib/python3.6/dist-packages (from hyperopt) (2.2)\n",
      "Requirement already satisfied: scipy in /usr/local/lib/python3.6/dist-packages (from hyperopt) (1.3.1)\n",
      "Requirement already satisfied: cloudpickle in /usr/local/lib/python3.6/dist-packages (from hyperopt) (1.2.2)\n",
      "Requirement already satisfied: decorator>=4.3.0 in /usr/local/lib/python3.6/dist-packages (from networkx==2.2->hyperopt) (4.4.1)\n"
     ]
    }
   ],
   "source": [
    "!pip install hyperopt"
   ]
  },
  {
   "cell_type": "markdown",
   "metadata": {},
   "source": [
    "## Import required libraries"
   ]
  },
  {
   "cell_type": "code",
   "execution_count": 2,
   "metadata": {
    "pycharm": {
     "is_executing": false
    }
   },
   "outputs": [
    {
     "name": "stdout",
     "output_type": "stream",
     "text": [
      "WARNING:tensorflow:\n",
      "The TensorFlow contrib module will not be included in TensorFlow 2.0.\n",
      "For more information, please see:\n",
      "  * https://github.com/tensorflow/community/blob/master/rfcs/20180907-contrib-sunset.md\n",
      "  * https://github.com/tensorflow/addons\n",
      "  * https://github.com/tensorflow/io (for I/O related ops)\n",
      "If you depend on functionality not listed there, please file an issue.\n",
      "\n"
     ]
    }
   ],
   "source": [
    "import warnings\n",
    "warnings.simplefilter('ignore')\n",
    "from ludwig.api import LudwigModel\n",
    "from ludwig.utils.data_utils import load_json\n",
    "from ludwig.visualize import learning_curves\n",
    "from sklearn.model_selection import train_test_split\n",
    "import pandas as pd\n",
    "import numpy as np\n",
    "from hyperopt import fmin, tpe, hp, STATUS_OK, Trials\n",
    "from hyperopt.pyll.stochastic import rng_from_seed\n",
    "import logging\n",
    "import shutil"
   ]
  },
  {
   "cell_type": "code",
   "execution_count": 3,
   "metadata": {},
   "outputs": [],
   "source": [
    "# clean out old results\n",
    "try:\n",
    "    shutil.rmtree('./results')\n",
    "except:\n",
    "    pass\n",
    "\n",
    "try:\n",
    "    shutil.rmtree('./visualizations')\n",
    "except:\n",
    "    pass\n",
    "\n",
    "try:\n",
    "    file_list = glob.glob('./data/*.json')\n",
    "    file_list.append(glob.glob('./data/*.hdf5'))\n",
    "    os.remove(file_list)\n",
    "except:\n",
    "    pass\n"
   ]
  },
  {
   "cell_type": "markdown",
   "metadata": {},
   "source": [
    "## Retrieve data for training"
   ]
  },
  {
   "cell_type": "code",
   "execution_count": 4,
   "metadata": {},
   "outputs": [
    {
     "data": {
      "text/plain": [
       "(6497, 13)"
      ]
     },
     "execution_count": 4,
     "metadata": {},
     "output_type": "execute_result"
    }
   ],
   "source": [
    "raw_df = pd.read_csv('./data/winequalityN.csv')\n",
    "raw_df.shape"
   ]
  },
  {
   "cell_type": "markdown",
   "metadata": {},
   "source": [
    "## Standardize column names to replace spaces(\" \") with underscore(\"_\")"
   ]
  },
  {
   "cell_type": "code",
   "execution_count": 5,
   "metadata": {},
   "outputs": [],
   "source": [
    "new_col = []\n",
    "for i in range(len(raw_df.columns)):\n",
    "    new_col.append(raw_df.columns[i].replace(' ', '_'))\n",
    "    \n",
    "raw_df.columns = new_col\n"
   ]
  },
  {
   "cell_type": "markdown",
   "metadata": {},
   "source": [
    "## Data Set Overview"
   ]
  },
  {
   "cell_type": "code",
   "execution_count": 6,
   "metadata": {},
   "outputs": [
    {
     "data": {
      "text/plain": [
       "type                     object\n",
       "fixed_acidity           float64\n",
       "volatile_acidity        float64\n",
       "citric_acid             float64\n",
       "residual_sugar          float64\n",
       "chlorides               float64\n",
       "free_sulfur_dioxide     float64\n",
       "total_sulfur_dioxide    float64\n",
       "density                 float64\n",
       "pH                      float64\n",
       "sulphates               float64\n",
       "alcohol                 float64\n",
       "quality                   int64\n",
       "dtype: object"
      ]
     },
     "execution_count": 6,
     "metadata": {},
     "output_type": "execute_result"
    }
   ],
   "source": [
    "raw_df.dtypes"
   ]
  },
  {
   "cell_type": "code",
   "execution_count": 7,
   "metadata": {},
   "outputs": [
    {
     "data": {
      "text/html": [
       "<div>\n",
       "<style scoped>\n",
       "    .dataframe tbody tr th:only-of-type {\n",
       "        vertical-align: middle;\n",
       "    }\n",
       "\n",
       "    .dataframe tbody tr th {\n",
       "        vertical-align: top;\n",
       "    }\n",
       "\n",
       "    .dataframe thead th {\n",
       "        text-align: right;\n",
       "    }\n",
       "</style>\n",
       "<table border=\"1\" class=\"dataframe\">\n",
       "  <thead>\n",
       "    <tr style=\"text-align: right;\">\n",
       "      <th></th>\n",
       "      <th>count</th>\n",
       "      <th>mean</th>\n",
       "      <th>std</th>\n",
       "      <th>min</th>\n",
       "      <th>25%</th>\n",
       "      <th>50%</th>\n",
       "      <th>75%</th>\n",
       "      <th>max</th>\n",
       "    </tr>\n",
       "  </thead>\n",
       "  <tbody>\n",
       "    <tr>\n",
       "      <td>fixed_acidity</td>\n",
       "      <td>6487.0</td>\n",
       "      <td>7.216579</td>\n",
       "      <td>1.296750</td>\n",
       "      <td>3.80000</td>\n",
       "      <td>6.40000</td>\n",
       "      <td>7.00000</td>\n",
       "      <td>7.70000</td>\n",
       "      <td>15.90000</td>\n",
       "    </tr>\n",
       "    <tr>\n",
       "      <td>volatile_acidity</td>\n",
       "      <td>6489.0</td>\n",
       "      <td>0.339691</td>\n",
       "      <td>0.164649</td>\n",
       "      <td>0.08000</td>\n",
       "      <td>0.23000</td>\n",
       "      <td>0.29000</td>\n",
       "      <td>0.40000</td>\n",
       "      <td>1.58000</td>\n",
       "    </tr>\n",
       "    <tr>\n",
       "      <td>citric_acid</td>\n",
       "      <td>6494.0</td>\n",
       "      <td>0.318722</td>\n",
       "      <td>0.145265</td>\n",
       "      <td>0.00000</td>\n",
       "      <td>0.25000</td>\n",
       "      <td>0.31000</td>\n",
       "      <td>0.39000</td>\n",
       "      <td>1.66000</td>\n",
       "    </tr>\n",
       "    <tr>\n",
       "      <td>residual_sugar</td>\n",
       "      <td>6495.0</td>\n",
       "      <td>5.444326</td>\n",
       "      <td>4.758125</td>\n",
       "      <td>0.60000</td>\n",
       "      <td>1.80000</td>\n",
       "      <td>3.00000</td>\n",
       "      <td>8.10000</td>\n",
       "      <td>65.80000</td>\n",
       "    </tr>\n",
       "    <tr>\n",
       "      <td>chlorides</td>\n",
       "      <td>6495.0</td>\n",
       "      <td>0.056042</td>\n",
       "      <td>0.035036</td>\n",
       "      <td>0.00900</td>\n",
       "      <td>0.03800</td>\n",
       "      <td>0.04700</td>\n",
       "      <td>0.06500</td>\n",
       "      <td>0.61100</td>\n",
       "    </tr>\n",
       "    <tr>\n",
       "      <td>free_sulfur_dioxide</td>\n",
       "      <td>6497.0</td>\n",
       "      <td>30.525319</td>\n",
       "      <td>17.749400</td>\n",
       "      <td>1.00000</td>\n",
       "      <td>17.00000</td>\n",
       "      <td>29.00000</td>\n",
       "      <td>41.00000</td>\n",
       "      <td>289.00000</td>\n",
       "    </tr>\n",
       "    <tr>\n",
       "      <td>total_sulfur_dioxide</td>\n",
       "      <td>6497.0</td>\n",
       "      <td>115.744574</td>\n",
       "      <td>56.521855</td>\n",
       "      <td>6.00000</td>\n",
       "      <td>77.00000</td>\n",
       "      <td>118.00000</td>\n",
       "      <td>156.00000</td>\n",
       "      <td>440.00000</td>\n",
       "    </tr>\n",
       "    <tr>\n",
       "      <td>density</td>\n",
       "      <td>6497.0</td>\n",
       "      <td>0.994697</td>\n",
       "      <td>0.002999</td>\n",
       "      <td>0.98711</td>\n",
       "      <td>0.99234</td>\n",
       "      <td>0.99489</td>\n",
       "      <td>0.99699</td>\n",
       "      <td>1.03898</td>\n",
       "    </tr>\n",
       "    <tr>\n",
       "      <td>pH</td>\n",
       "      <td>6488.0</td>\n",
       "      <td>3.218395</td>\n",
       "      <td>0.160748</td>\n",
       "      <td>2.72000</td>\n",
       "      <td>3.11000</td>\n",
       "      <td>3.21000</td>\n",
       "      <td>3.32000</td>\n",
       "      <td>4.01000</td>\n",
       "    </tr>\n",
       "    <tr>\n",
       "      <td>sulphates</td>\n",
       "      <td>6493.0</td>\n",
       "      <td>0.531215</td>\n",
       "      <td>0.148814</td>\n",
       "      <td>0.22000</td>\n",
       "      <td>0.43000</td>\n",
       "      <td>0.51000</td>\n",
       "      <td>0.60000</td>\n",
       "      <td>2.00000</td>\n",
       "    </tr>\n",
       "    <tr>\n",
       "      <td>alcohol</td>\n",
       "      <td>6497.0</td>\n",
       "      <td>10.491801</td>\n",
       "      <td>1.192712</td>\n",
       "      <td>8.00000</td>\n",
       "      <td>9.50000</td>\n",
       "      <td>10.30000</td>\n",
       "      <td>11.30000</td>\n",
       "      <td>14.90000</td>\n",
       "    </tr>\n",
       "    <tr>\n",
       "      <td>quality</td>\n",
       "      <td>6497.0</td>\n",
       "      <td>5.818378</td>\n",
       "      <td>0.873255</td>\n",
       "      <td>3.00000</td>\n",
       "      <td>5.00000</td>\n",
       "      <td>6.00000</td>\n",
       "      <td>6.00000</td>\n",
       "      <td>9.00000</td>\n",
       "    </tr>\n",
       "  </tbody>\n",
       "</table>\n",
       "</div>"
      ],
      "text/plain": [
       "                       count        mean        std      min       25%  \\\n",
       "fixed_acidity         6487.0    7.216579   1.296750  3.80000   6.40000   \n",
       "volatile_acidity      6489.0    0.339691   0.164649  0.08000   0.23000   \n",
       "citric_acid           6494.0    0.318722   0.145265  0.00000   0.25000   \n",
       "residual_sugar        6495.0    5.444326   4.758125  0.60000   1.80000   \n",
       "chlorides             6495.0    0.056042   0.035036  0.00900   0.03800   \n",
       "free_sulfur_dioxide   6497.0   30.525319  17.749400  1.00000  17.00000   \n",
       "total_sulfur_dioxide  6497.0  115.744574  56.521855  6.00000  77.00000   \n",
       "density               6497.0    0.994697   0.002999  0.98711   0.99234   \n",
       "pH                    6488.0    3.218395   0.160748  2.72000   3.11000   \n",
       "sulphates             6493.0    0.531215   0.148814  0.22000   0.43000   \n",
       "alcohol               6497.0   10.491801   1.192712  8.00000   9.50000   \n",
       "quality               6497.0    5.818378   0.873255  3.00000   5.00000   \n",
       "\n",
       "                            50%        75%        max  \n",
       "fixed_acidity           7.00000    7.70000   15.90000  \n",
       "volatile_acidity        0.29000    0.40000    1.58000  \n",
       "citric_acid             0.31000    0.39000    1.66000  \n",
       "residual_sugar          3.00000    8.10000   65.80000  \n",
       "chlorides               0.04700    0.06500    0.61100  \n",
       "free_sulfur_dioxide    29.00000   41.00000  289.00000  \n",
       "total_sulfur_dioxide  118.00000  156.00000  440.00000  \n",
       "density                 0.99489    0.99699    1.03898  \n",
       "pH                      3.21000    3.32000    4.01000  \n",
       "sulphates               0.51000    0.60000    2.00000  \n",
       "alcohol                10.30000   11.30000   14.90000  \n",
       "quality                 6.00000    6.00000    9.00000  "
      ]
     },
     "execution_count": 7,
     "metadata": {},
     "output_type": "execute_result"
    }
   ],
   "source": [
    "raw_df.describe().T"
   ]
  },
  {
   "cell_type": "markdown",
   "metadata": {},
   "source": [
    "## Create training and test data sets"
   ]
  },
  {
   "cell_type": "code",
   "execution_count": 8,
   "metadata": {},
   "outputs": [
    {
     "name": "stdout",
     "output_type": "stream",
     "text": [
      "(5197, 13) (1300, 13)\n"
     ]
    }
   ],
   "source": [
    "train_df, vald_df = train_test_split(raw_df, test_size = 0.2, random_state=13)\n",
    "print(train_df.shape, vald_df.shape)"
   ]
  },
  {
   "cell_type": "markdown",
   "metadata": {},
   "source": [
    "## Prepare model definition"
   ]
  },
  {
   "cell_type": "code",
   "execution_count": 9,
   "metadata": {},
   "outputs": [],
   "source": [
    "# template for model definition\n",
    "model_definition = {'input_features':[], 'output_features': [], 'training':{}}\n",
    "\n",
    "# isolate the predictor variables only\n",
    "predictor_vars = list(set(raw_df.columns) - set(['quality']))\n",
    "\n",
    "#extract categorical variables\n",
    "categorical_vars = []\n",
    "for p in predictor_vars:\n",
    "    if raw_df[p].dtype == 'object':\n",
    "        categorical_vars.append(p)\n",
    "\n",
    "# get numerical variables\n",
    "numerical_vars = list(set(predictor_vars) - set(categorical_vars))\n",
    "\n",
    "# setup input features for categorical variables\n",
    "for p in categorical_vars:\n",
    "    \n",
    "    a_feature = {'name': p.replace(' ','_'), 'type': 'category', 'representation': 'sparse'}\n",
    "    model_definition['input_features'].append(a_feature)\n",
    "\n",
    "\n",
    "# setup input features for numerical variables\n",
    "for p in numerical_vars:\n",
    "    a_feature = {'name': p.replace(' ','_'), 'type': 'numerical', \n",
    "                'preprocessing': {'missing_value_strategy': 'fill_with_mean', 'normalization': 'zscore'}}\n",
    "    model_definition['input_features'].append(a_feature)\n",
    "\n",
    "# set up output variable\n",
    "model_definition['output_features'].append({'name': 'quality', 'type':'category'})"
   ]
  },
  {
   "cell_type": "code",
   "execution_count": 10,
   "metadata": {},
   "outputs": [
    {
     "data": {
      "text/plain": [
       "{'input_features': [{'name': 'type',\n",
       "   'type': 'category',\n",
       "   'representation': 'sparse'},\n",
       "  {'name': 'pH',\n",
       "   'type': 'numerical',\n",
       "   'preprocessing': {'missing_value_strategy': 'fill_with_mean',\n",
       "    'normalization': 'zscore'}},\n",
       "  {'name': 'free_sulfur_dioxide',\n",
       "   'type': 'numerical',\n",
       "   'preprocessing': {'missing_value_strategy': 'fill_with_mean',\n",
       "    'normalization': 'zscore'}},\n",
       "  {'name': 'residual_sugar',\n",
       "   'type': 'numerical',\n",
       "   'preprocessing': {'missing_value_strategy': 'fill_with_mean',\n",
       "    'normalization': 'zscore'}},\n",
       "  {'name': 'density',\n",
       "   'type': 'numerical',\n",
       "   'preprocessing': {'missing_value_strategy': 'fill_with_mean',\n",
       "    'normalization': 'zscore'}},\n",
       "  {'name': 'total_sulfur_dioxide',\n",
       "   'type': 'numerical',\n",
       "   'preprocessing': {'missing_value_strategy': 'fill_with_mean',\n",
       "    'normalization': 'zscore'}},\n",
       "  {'name': 'sulphates',\n",
       "   'type': 'numerical',\n",
       "   'preprocessing': {'missing_value_strategy': 'fill_with_mean',\n",
       "    'normalization': 'zscore'}},\n",
       "  {'name': 'fixed_acidity',\n",
       "   'type': 'numerical',\n",
       "   'preprocessing': {'missing_value_strategy': 'fill_with_mean',\n",
       "    'normalization': 'zscore'}},\n",
       "  {'name': 'chlorides',\n",
       "   'type': 'numerical',\n",
       "   'preprocessing': {'missing_value_strategy': 'fill_with_mean',\n",
       "    'normalization': 'zscore'}},\n",
       "  {'name': 'alcohol',\n",
       "   'type': 'numerical',\n",
       "   'preprocessing': {'missing_value_strategy': 'fill_with_mean',\n",
       "    'normalization': 'zscore'}},\n",
       "  {'name': 'citric_acid',\n",
       "   'type': 'numerical',\n",
       "   'preprocessing': {'missing_value_strategy': 'fill_with_mean',\n",
       "    'normalization': 'zscore'}},\n",
       "  {'name': 'volatile_acidity',\n",
       "   'type': 'numerical',\n",
       "   'preprocessing': {'missing_value_strategy': 'fill_with_mean',\n",
       "    'normalization': 'zscore'}}],\n",
       " 'output_features': [{'name': 'quality', 'type': 'category'}],\n",
       " 'training': {}}"
      ]
     },
     "execution_count": 10,
     "metadata": {},
     "output_type": "execute_result"
    }
   ],
   "source": [
    "model_definition"
   ]
  },
  {
   "cell_type": "markdown",
   "metadata": {},
   "source": [
    "## Define objective function for minimization"
   ]
  },
  {
   "cell_type": "code",
   "execution_count": 11,
   "metadata": {},
   "outputs": [],
   "source": [
    "def score_model(params):\n",
    "    \n",
    "    print(params)\n",
    "    \n",
    "    model_definition['training']['learning_rate'] = params['learning_rate']\n",
    "    model_definition['training']['batch_size'] = params['batch_size']\n",
    "    model_definition['output_features'][0]['num_fc_layers'] = np.int(params['output_fc_num_layers'])\n",
    "    model_definition['output_features'][0]['fc_size'] = np.int(params['output_fc_size'])\n",
    "    \n",
    "    # Define Ludwig model object that drive model training\n",
    "    model = LudwigModel(model_definition,\n",
    "                        logging_level=logging.WARN)\n",
    "\n",
    "    # initiate model training\n",
    "    train_stats = model.train(data_train_df = train_df,\n",
    "                            data_validation_df = vald_df,\n",
    "                            experiment_name='experiment_name',\n",
    "                            model_name='model_name',\n",
    "                            skip_save_training_description=True, \n",
    "                            skip_save_training_statistics=True, \n",
    "                            skip_save_model=True, \n",
    "                            skip_save_progress=True,                          \n",
    "                            skip_save_log=True,\n",
    "                            skip_save_processed_input=True,\n",
    "                            random_seed=42)\n",
    "\n",
    "\n",
    "\n",
    "    model.close()\n",
    "    \n",
    "    validation_losses = train_stats['validation']['quality']['loss']\n",
    "    \n",
    "    last_epoch = len(validation_losses)\n",
    "    \n",
    "    return {'loss': validation_losses[last_epoch - 1], 'status': STATUS_OK}"
   ]
  },
  {
   "cell_type": "markdown",
   "metadata": {},
   "source": [
    "## Define hyperparameter search space"
   ]
  },
  {
   "cell_type": "code",
   "execution_count": 12,
   "metadata": {},
   "outputs": [],
   "source": [
    "SEED=13\n",
    "\n",
    "space = {'learning_rate':  hp.uniform('learning_rate', 0.0001, 0.01, rng=rng_from_seed(SEED)),\n",
    "         'batch_size': 2 ** (5 + hp.randint('batch_size_exponent',3, rng=rng_from_seed(SEED))),\n",
    "         'output_fc_num_layers': hp.quniform('output_fc_num_layers',1,4,1, rng=rng_from_seed(SEED)),\n",
    "         'output_fc_size': hp.quniform('output_fc_size',5,100,1, rng=rng_from_seed(SEED))\n",
    "        }"
   ]
  },
  {
   "cell_type": "code",
   "execution_count": 13,
   "metadata": {},
   "outputs": [
    {
     "name": "stdout",
     "output_type": "stream",
     "text": [
      "{'batch_size': 32, 'learning_rate': 0.0014178618831807194, 'output_fc_num_layers': 2.0, 'output_fc_size': 52.0}\n",
      "  0%|          | 0/30 [00:00<?, ?it/s, best loss: ?]WARNING:tensorflow:From /usr/local/lib/python3.6/dist-packages/tensorflow/python/ops/init_ops.py:1251: calling VarianceScaling.__init__ (from tensorflow.python.ops.init_ops) with dtype is deprecated and will be removed in a future version.\n",
      "Instructions for updating:\n",
      "Call initializer instance with the dtype argument instead of passing it to the constructor\n",
      "WARNING:tensorflow:From /opt/project/ludwig/utils/tf_utils.py:78: The name tf.GPUOptions is deprecated. Please use tf.compat.v1.GPUOptions instead.\n",
      "\n",
      "{'batch_size': 64, 'learning_rate': 0.0001645774200513777, 'output_fc_num_layers': 4.0, 'output_fc_size': 81.0}\n",
      "{'batch_size': 64, 'learning_rate': 0.00918554006842912, 'output_fc_num_layers': 4.0, 'output_fc_size': 26.0}\n",
      "{'batch_size': 32, 'learning_rate': 0.004783527970946766, 'output_fc_num_layers': 4.0, 'output_fc_size': 91.0}\n",
      "{'batch_size': 64, 'learning_rate': 0.008044943390364427, 'output_fc_num_layers': 2.0, 'output_fc_size': 6.0}\n",
      "{'batch_size': 64, 'learning_rate': 0.009694814795507998, 'output_fc_num_layers': 2.0, 'output_fc_size': 83.0}\n",
      "{'batch_size': 32, 'learning_rate': 0.0045490886236790595, 'output_fc_num_layers': 1.0, 'output_fc_size': 65.0}\n",
      "{'batch_size': 128, 'learning_rate': 0.004657597089849334, 'output_fc_num_layers': 3.0, 'output_fc_size': 18.0}\n",
      "{'batch_size': 32, 'learning_rate': 0.007834283843222609, 'output_fc_num_layers': 3.0, 'output_fc_size': 90.0}\n",
      "{'batch_size': 64, 'learning_rate': 0.006920537863831281, 'output_fc_num_layers': 3.0, 'output_fc_size': 48.0}\n",
      "{'batch_size': 64, 'learning_rate': 0.009661585646575438, 'output_fc_num_layers': 3.0, 'output_fc_size': 84.0}\n",
      "{'batch_size': 32, 'learning_rate': 0.003940625092324633, 'output_fc_num_layers': 2.0, 'output_fc_size': 13.0}\n",
      "{'batch_size': 32, 'learning_rate': 0.00996015053763124, 'output_fc_num_layers': 4.0, 'output_fc_size': 58.0}\n",
      "{'batch_size': 32, 'learning_rate': 0.008956673118566573, 'output_fc_num_layers': 2.0, 'output_fc_size': 13.0}\n",
      "{'batch_size': 32, 'learning_rate': 0.004905984210839826, 'output_fc_num_layers': 3.0, 'output_fc_size': 51.0}\n",
      "{'batch_size': 32, 'learning_rate': 0.003009875681046946, 'output_fc_num_layers': 4.0, 'output_fc_size': 79.0}\n",
      "{'batch_size': 128, 'learning_rate': 0.009934706318342125, 'output_fc_num_layers': 2.0, 'output_fc_size': 72.0}\n",
      "{'batch_size': 64, 'learning_rate': 0.007448448683420091, 'output_fc_num_layers': 3.0, 'output_fc_size': 65.0}\n",
      "{'batch_size': 64, 'learning_rate': 0.004238398703899255, 'output_fc_num_layers': 3.0, 'output_fc_size': 22.0}\n",
      "{'batch_size': 64, 'learning_rate': 0.006627412259672624, 'output_fc_num_layers': 1.0, 'output_fc_size': 96.0}\n",
      "{'batch_size': 128, 'learning_rate': 0.00017908874104792077, 'output_fc_num_layers': 1.0, 'output_fc_size': 37.0}\n",
      "{'batch_size': 128, 'learning_rate': 0.00018398647034312547, 'output_fc_num_layers': 1.0, 'output_fc_size': 41.0}\n",
      "{'batch_size': 32, 'learning_rate': 0.0015599973147849386, 'output_fc_num_layers': 2.0, 'output_fc_size': 34.0}\n",
      "{'batch_size': 64, 'learning_rate': 0.0014082968119469455, 'output_fc_num_layers': 2.0, 'output_fc_size': 60.0}\n",
      "{'batch_size': 64, 'learning_rate': 0.0012441437721435115, 'output_fc_num_layers': 1.0, 'output_fc_size': 69.0}\n",
      "{'batch_size': 64, 'learning_rate': 0.0026958298996238497, 'output_fc_num_layers': 2.0, 'output_fc_size': 76.0}\n",
      "{'batch_size': 64, 'learning_rate': 0.0008261479195621306, 'output_fc_num_layers': 4.0, 'output_fc_size': 59.0}\n",
      "{'batch_size': 64, 'learning_rate': 0.0023053530527880578, 'output_fc_num_layers': 1.0, 'output_fc_size': 99.0}\n",
      "{'batch_size': 64, 'learning_rate': 0.005598747745903631, 'output_fc_num_layers': 2.0, 'output_fc_size': 58.0}\n",
      "{'batch_size': 64, 'learning_rate': 0.0035457493077195863, 'output_fc_num_layers': 2.0, 'output_fc_size': 46.0}\n",
      "100%|██████████| 30/30 [05:50<00:00, 11.67s/it, best loss: 0.9711340126624474]\n"
     ]
    }
   ],
   "source": [
    "np.random.seed(123)\n",
    "best = fmin(fn=score_model,\n",
    "    space=space,\n",
    "    algo=tpe.suggest,\n",
    "    max_evals=30)"
   ]
  },
  {
   "cell_type": "markdown",
   "metadata": {},
   "source": [
    "## Optimal hyperparameters"
   ]
  },
  {
   "cell_type": "code",
   "execution_count": 14,
   "metadata": {},
   "outputs": [
    {
     "name": "stdout",
     "output_type": "stream",
     "text": [
      "batch size: 16 , learning_rate: 0.0001645774200513777 , fc_num_layers: 4 , fc_size: 81\n"
     ]
    }
   ],
   "source": [
    "print('batch size:', 2 ** np.int(3 + best['batch_size_exponent']),\n",
    "      ', learning_rate:', best['learning_rate'],\n",
    "      ', fc_num_layers:', np.int(best['output_fc_num_layers']),\n",
    "      ', fc_size:', np.int(best['output_fc_size']))"
   ]
  },
  {
   "cell_type": "markdown",
   "metadata": {},
   "source": [
    "## Train with optimal hyperparameters on the whole data set"
   ]
  },
  {
   "cell_type": "code",
   "execution_count": 15,
   "metadata": {},
   "outputs": [],
   "source": [
    "# clean out old results\n",
    "try:\n",
    "    shutil.rmtree('./results')\n",
    "except:\n",
    "    pass\n",
    "\n",
    "try:\n",
    "    shutil.rmtree('./visualizations')\n",
    "except:\n",
    "    pass\n",
    "\n"
   ]
  },
  {
   "cell_type": "code",
   "execution_count": 16,
   "metadata": {},
   "outputs": [],
   "source": [
    "# set optimal hyperparameters for training    \n",
    "model_definition['training']['learning_rate'] = best['learning_rate']\n",
    "model_definition['training']['batch_size'] = 2** (3 + best['batch_size_exponent'])\n",
    "model_definition['output_features'][0]['num_fc_layers'] = np.int(best['output_fc_num_layers'])\n",
    "model_definition['output_features'][0]['fc_size'] = np.int(best['output_fc_size'])\n",
    "\n",
    "\n",
    "# Define Ludwig model object that drive model training\n",
    "model = LudwigModel(model_definition,\n",
    "                    logging_level=logging.WARN)\n",
    "\n",
    "# initiate model training\n",
    "opt_stats = model.train(data_df = raw_df,\n",
    "                        experiment_name='hyperparameter_training',\n",
    "                        model_name='optimized_model',                        \n",
    "                        random_seed=42)\n",
    "\n",
    "\n",
    "\n",
    "model.close()\n"
   ]
  },
  {
   "cell_type": "code",
   "execution_count": 17,
   "metadata": {},
   "outputs": [
    {
     "data": {
      "image/png": "[encoded data removed]",
      "text/plain": [
       "<Figure size 432x288 with 1 Axes>"
      ]
     },
     "metadata": {
      "needs_background": "light"
     },
     "output_type": "display_data"
    },
    {
     "data": {
      "image/png": "[encoded data removed]",
      "text/plain": [
       "<Figure size 432x288 with 1 Axes>"
      ]
     },
     "metadata": {},
     "output_type": "display_data"
    },
    {
     "data": {
      "image/png": "[encoded data removed]",
      "text/plain": [
       "<Figure size 432x288 with 1 Axes>"
      ]
     },
     "metadata": {},
     "output_type": "display_data"
    }
   ],
   "source": [
    "# generating learning curves from training\n",
    "learning_curves([opt_stats], 'quality',\n",
    "                model_names=['optmized_model'],\n",
    "                output_directory='./visualizations',\n",
    "                file_format='png')"
   ]
  },
  {
   "cell_type": "code",
   "execution_count": null,
   "metadata": {},
   "outputs": [],
   "source": []
  }
 ],
 "metadata": {
  "kernelspec": {
   "display_name": "Python 3",
   "language": "python",
   "name": "python3"
  },
  "language_info": {
   "codemirror_mode": {
    "name": "ipython",
    "version": 3
   },
   "file_extension": ".py",
   "mimetype": "text/x-python",
   "name": "python",
   "nbconvert_exporter": "python",
   "pygments_lexer": "ipython3",
   "version": "3.6.8"
  }
 },
 "nbformat": 4,
 "nbformat_minor": 2
}
