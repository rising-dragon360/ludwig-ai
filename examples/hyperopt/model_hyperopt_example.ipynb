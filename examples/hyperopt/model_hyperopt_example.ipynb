{
 "cells": [
  {
   "cell_type": "markdown",
   "metadata": {},
   "source": [
    "# Hyperparameter Optimization with Hyperopt\n",
    "\n"
   ]
  },
  {
   "cell_type": "markdown",
   "metadata": {},
   "source": [
    "## Install Hyperopt package"
   ]
  },
  {
   "cell_type": "code",
   "execution_count": 1,
   "metadata": {},
   "outputs": [
    {
     "name": "stdout",
     "output_type": "stream",
     "text": [
      "Requirement already satisfied: hyperopt in /usr/local/lib/python3.6/dist-packages (0.2.2)\n",
      "Requirement already satisfied: numpy in /usr/local/lib/python3.6/dist-packages (from hyperopt) (1.17.3)\n",
      "Requirement already satisfied: scipy in /usr/local/lib/python3.6/dist-packages (from hyperopt) (1.3.1)\n",
      "Requirement already satisfied: cloudpickle in /usr/local/lib/python3.6/dist-packages (from hyperopt) (1.2.2)\n",
      "Requirement already satisfied: tqdm in /usr/local/lib/python3.6/dist-packages (from hyperopt) (4.36.1)\n",
      "Requirement already satisfied: six in /usr/lib/python3/dist-packages (from hyperopt) (1.11.0)\n",
      "Requirement already satisfied: future in /usr/local/lib/python3.6/dist-packages (from hyperopt) (0.18.2)\n",
      "Requirement already satisfied: networkx==2.2 in /usr/local/lib/python3.6/dist-packages (from hyperopt) (2.2)\n",
      "Requirement already satisfied: decorator>=4.3.0 in /usr/local/lib/python3.6/dist-packages (from networkx==2.2->hyperopt) (4.4.1)\n"
     ]
    }
   ],
   "source": [
    "!pip install hyperopt"
   ]
  },
  {
   "cell_type": "markdown",
   "metadata": {},
   "source": [
    "## Import required libraries"
   ]
  },
  {
   "cell_type": "code",
   "execution_count": 29,
   "metadata": {
    "pycharm": {
     "is_executing": false
    }
   },
   "outputs": [],
   "source": [
    "import warnings\n",
    "warnings.simplefilter('ignore')\n",
    "from ludwig.api import LudwigModel\n",
    "from ludwig.utils.data_utils import load_json\n",
    "from ludwig.visualize import learning_curves\n",
    "from sklearn.model_selection import train_test_split\n",
    "import pandas as pd\n",
    "import numpy as np\n",
    "import os.path\n",
    "import matplotlib.pyplot as plt\n",
    "import seaborn as sns\n",
    "from hyperopt import fmin, tpe, hp, STATUS_OK, Trials\n",
    "import logging\n"
   ]
  },
  {
   "cell_type": "code",
   "execution_count": 155,
   "metadata": {},
   "outputs": [],
   "source": [
    "model_definition = {\n",
    "    'input_features': [\n",
    "        {'name': 'Pclass', 'type': 'category'},\n",
    "        {'name': 'Sex', 'type': 'category'},\n",
    "        {'name': 'Age', 'type': 'numerical', \n",
    "            'preprocessing': {'missing_value_strategy': 'fill_with_mean', 'normalization': 'zscore'}},\n",
    "        {'name': 'SibSp', 'type': 'numerical', \n",
    "            'preprocessing': {'missing_value_strategy': 'fill_with_mean', 'normalization': 'minmax'}},\n",
    "        {'name': 'Parch', 'type': 'numerical',\n",
    "            'preprocessing': {'missing_value_strategy': 'fill_with_mean', 'normalization': 'minmax'}},\n",
    "        {'name': 'Fare', 'type': 'numerical',\n",
    "            'preprocessing': {'missing_value_strategy': 'fill_with_mean', 'normalization': 'zscore'}},\n",
    "        {'name': 'Embarked', 'type': 'category'}\n",
    "    ],\n",
    "    \n",
    "    'output_features':[\n",
    "        {'name': 'Survived', 'type': 'binary', \n",
    "            'fc_layers': [{'fc_size': 50}] }\n",
    "    ],\n",
    "    \n",
    "    'training': {}\n",
    "}"
   ]
  },
  {
   "cell_type": "code",
   "execution_count": 156,
   "metadata": {},
   "outputs": [],
   "source": [
    "# clean out old results\n",
    "try:\n",
    "    shutil.rmtree('./results')\n",
    "except:\n",
    "    pass\n",
    "\n",
    "try:\n",
    "    shutil.rmtree('./visualizations')\n",
    "except:\n",
    "    pass\n",
    "\n",
    "try:\n",
    "    file_list = glob.glob('./data/*.json')\n",
    "    file_list.append(glob.glob('./data/*.hdf5'))\n",
    "    os.remove(file_list)\n",
    "except:\n",
    "    pass\n"
   ]
  },
  {
   "cell_type": "code",
   "execution_count": 157,
   "metadata": {},
   "outputs": [
    {
     "data": {
      "text/plain": [
       "(891, 12)"
      ]
     },
     "execution_count": 157,
     "metadata": {},
     "output_type": "execute_result"
    }
   ],
   "source": [
    "raw_df = pd.read_csv('./data/train.csv')\n",
    "raw_df.shape"
   ]
  },
  {
   "cell_type": "code",
   "execution_count": 158,
   "metadata": {},
   "outputs": [],
   "source": [
    "train_df, vald_df = train_test_split(raw_df, test_size = 0.2)"
   ]
  },
  {
   "cell_type": "markdown",
   "metadata": {},
   "source": [
    "## Define objective function for minimization"
   ]
  },
  {
   "cell_type": "code",
   "execution_count": 172,
   "metadata": {},
   "outputs": [],
   "source": [
    "def score_model(params):\n",
    "    \n",
    "    print(params)\n",
    "\n",
    "    learning_rate = params['learning_rate']\n",
    "    fc_size = np.int(params['fc_size'])\n",
    "    \n",
    "    model_definition['training']['learning_rate'] = learning_rate\n",
    "    model_definition['output_features'][0]['fc_layers'][0]['fc_size'] = fc_size\n",
    "    \n",
    "    # Define Ludwig model object that drive model training\n",
    "    model = LudwigModel(model_definition,\n",
    "                        logging_level=logging.WARN)\n",
    "\n",
    "    # initiate model training\n",
    "    train_stats = model.train(data_train_df = train_df,\n",
    "                            data_validation_df = vald_df,\n",
    "                            experiment_name='experiment_name',\n",
    "                            model_name='model_name',\n",
    "                            skip_save_training_description=True, \n",
    "                            skip_save_training_statistics=True, \n",
    "                            skip_save_model=True, \n",
    "                            skip_save_progress=True,                          \n",
    "                            skip_save_log=True,\n",
    "                            skip_save_processed_input=True)\n",
    "\n",
    "\n",
    "\n",
    "    model.close()\n",
    "    \n",
    "    validation_losses = train_stats['validation']['Survived']['loss']\n",
    "    \n",
    "    last_epoch = len(validation_losses)\n",
    "    \n",
    "    return {'loss': validation_losses[last_epoch - 1], 'status': STATUS_OK}"
   ]
  },
  {
   "cell_type": "markdown",
   "metadata": {},
   "source": [
    "## Define hyperparameter space for optimization"
   ]
  },
  {
   "cell_type": "code",
   "execution_count": 173,
   "metadata": {},
   "outputs": [],
   "source": [
    "space = {'learning_rate':  hp.uniform('learning_rate', 0.01, 0.0001),\n",
    "         'fc_size': hp.quniform('fc_size',5, 50, 1)\n",
    "        }"
   ]
  },
  {
   "cell_type": "code",
   "execution_count": 174,
   "metadata": {},
   "outputs": [],
   "source": [
    "trials = Trials()"
   ]
  },
  {
   "cell_type": "code",
   "execution_count": 175,
   "metadata": {},
   "outputs": [
    {
     "name": "stdout",
     "output_type": "stream",
     "text": [
      "{'fc_size': 30.0, 'learning_rate': 0.0005444781357765317}\n",
      "{'fc_size': 24.0, 'learning_rate': 0.005649402747331224}                     \n",
      "{'fc_size': 35.0, 'learning_rate': 0.00903287275892338}                       \n",
      "{'fc_size': 32.0, 'learning_rate': 0.007947258501046106}                      \n",
      "{'fc_size': 46.0, 'learning_rate': 0.007491975547789343}                      \n",
      "{'fc_size': 24.0, 'learning_rate': 0.007251549703582612}                      \n",
      "{'fc_size': 29.0, 'learning_rate': 0.008631880310088224}                      \n",
      "{'fc_size': 47.0, 'learning_rate': 0.0036775439792056733}                   \n",
      "{'fc_size': 29.0, 'learning_rate': 0.00535621197670413}                     \n",
      "{'fc_size': 40.0, 'learning_rate': 0.009676681866499545}                    \n",
      "{'fc_size': 40.0, 'learning_rate': 0.005353785778393563}                     \n",
      "{'fc_size': 28.0, 'learning_rate': 0.00874195588421699}                      \n",
      "{'fc_size': 44.0, 'learning_rate': 0.003975020005097009}                     \n",
      "{'fc_size': 42.0, 'learning_rate': 0.007115239102037993}                     \n",
      "{'fc_size': 31.0, 'learning_rate': 0.003611575698779965}                     \n",
      "{'fc_size': 22.0, 'learning_rate': 0.009659660475421064}                     \n",
      "{'fc_size': 42.0, 'learning_rate': 0.005501677070278013}                     \n",
      "{'fc_size': 14.0, 'learning_rate': 0.0045827051330284965}                    \n",
      "{'fc_size': 49.0, 'learning_rate': 0.008067691350971492}                     \n",
      "{'fc_size': 44.0, 'learning_rate': 0.00024222951219268242}                   \n",
      "100%|██████████| 20/20 [00:46<00:00,  2.34s/it, best loss: 0.428649891688171]\n"
     ]
    }
   ],
   "source": [
    "best = fmin(fn=score_model,\n",
    "    space=space,\n",
    "    algo=tpe.suggest,\n",
    "    max_evals=20,\n",
    "    trials=trials)"
   ]
  },
  {
   "cell_type": "code",
   "execution_count": 177,
   "metadata": {},
   "outputs": [
    {
     "data": {
      "text/plain": [
       "[({'loss': 0.4604251051748265, 'status': 'ok'},\n",
       "  {'fc_size': [30.0], 'learning_rate': [0.0005444781357765317]}),\n",
       " ({'loss': 0.42951139524662296, 'status': 'ok'},\n",
       "  {'fc_size': [24.0], 'learning_rate': [0.005649402747331224]}),\n",
       " ({'loss': 0.4398306095400336, 'status': 'ok'},\n",
       "  {'fc_size': [35.0], 'learning_rate': [0.00903287275892338]}),\n",
       " ({'loss': 0.42868021746587487, 'status': 'ok'},\n",
       "  {'fc_size': [32.0], 'learning_rate': [0.007947258501046106]}),\n",
       " ({'loss': 0.433350067564895, 'status': 'ok'},\n",
       "  {'fc_size': [46.0], 'learning_rate': [0.007491975547789343]}),\n",
       " ({'loss': 0.428649891688171, 'status': 'ok'},\n",
       "  {'fc_size': [24.0], 'learning_rate': [0.007251549703582612]}),\n",
       " ({'loss': 0.44137505046482195, 'status': 'ok'},\n",
       "  {'fc_size': [29.0], 'learning_rate': [0.008631880310088224]}),\n",
       " ({'loss': 0.4383517323925508, 'status': 'ok'},\n",
       "  {'fc_size': [47.0], 'learning_rate': [0.0036775439792056733]}),\n",
       " ({'loss': 0.438923137813973, 'status': 'ok'},\n",
       "  {'fc_size': [29.0], 'learning_rate': [0.00535621197670413]}),\n",
       " ({'loss': 0.44244004361456335, 'status': 'ok'},\n",
       "  {'fc_size': [40.0], 'learning_rate': [0.009676681866499545]}),\n",
       " ({'loss': 0.4422891925833079, 'status': 'ok'},\n",
       "  {'fc_size': [40.0], 'learning_rate': [0.005353785778393563]}),\n",
       " ({'loss': 0.4438526963388454, 'status': 'ok'},\n",
       "  {'fc_size': [28.0], 'learning_rate': [0.00874195588421699]}),\n",
       " ({'loss': 0.4378323155408465, 'status': 'ok'},\n",
       "  {'fc_size': [44.0], 'learning_rate': [0.003975020005097009]}),\n",
       " ({'loss': 0.43680633246565664, 'status': 'ok'},\n",
       "  {'fc_size': [42.0], 'learning_rate': [0.007115239102037993]}),\n",
       " ({'loss': 0.4296934138463196, 'status': 'ok'},\n",
       "  {'fc_size': [31.0], 'learning_rate': [0.003611575698779965]}),\n",
       " ({'loss': 0.4299301808106833, 'status': 'ok'},\n",
       "  {'fc_size': [22.0], 'learning_rate': [0.009659660475421064]}),\n",
       " ({'loss': 0.4363437950944101, 'status': 'ok'},\n",
       "  {'fc_size': [42.0], 'learning_rate': [0.005501677070278013]}),\n",
       " ({'loss': 0.44374841018762, 'status': 'ok'},\n",
       "  {'fc_size': [14.0], 'learning_rate': [0.0045827051330284965]}),\n",
       " ({'loss': 0.4416914785374476, 'status': 'ok'},\n",
       "  {'fc_size': [49.0], 'learning_rate': [0.008067691350971492]}),\n",
       " ({'loss': 0.5005573507127815, 'status': 'ok'},\n",
       "  {'fc_size': [44.0], 'learning_rate': [0.00024222951219268242]})]"
      ]
     },
     "execution_count": 177,
     "metadata": {},
     "output_type": "execute_result"
    }
   ],
   "source": [
    "[(trials.trials[i]['result'], trials.trials[i]['misc']['vals'])  for i in range(len(trials.trials))]"
   ]
  },
  {
   "cell_type": "code",
   "execution_count": 178,
   "metadata": {},
   "outputs": [
    {
     "data": {
      "text/plain": [
       "{'fc_size': 24.0, 'learning_rate': 0.007251549703582612}"
      ]
     },
     "execution_count": 178,
     "metadata": {},
     "output_type": "execute_result"
    }
   ],
   "source": [
    "best"
   ]
  },
  {
   "cell_type": "code",
   "execution_count": 51,
   "metadata": {},
   "outputs": [
    {
     "data": {
      "image/png": "[encoded data removed]",
      "text/plain": [
       "<Figure size 432x288 with 1 Axes>"
      ]
     },
     "metadata": {},
     "output_type": "display_data"
    },
    {
     "data": {
      "image/png": "[encoded data removed]",
      "text/plain": [
       "<Figure size 432x288 with 1 Axes>"
      ]
     },
     "metadata": {},
     "output_type": "display_data"
    }
   ],
   "source": [
    "# generating learning curves from training\n",
    "learning_curves(trs, 'Survived',\n",
    "                model_names=['model_name'],\n",
    "                output_directory='./visualizations',\n",
    "                file_format='png')"
   ]
  },
  {
   "cell_type": "code",
   "execution_count": 101,
   "metadata": {},
   "outputs": [
    {
     "name": "stdout",
     "output_type": "stream",
     "text": [
      "100%|██████████| 20/20 [00:00<00:00, 896.02it/s, best loss: 0.38466882450765444]\n",
      "{'x': -0.620216756068114}\n"
     ]
    }
   ],
   "source": [
    "from hyperopt import fmin, tpe, hp, Trials\n",
    "trials = Trials()\n",
    "best = fmin(fn=lambda x: x ** 2,\n",
    "    space=hp.uniform('x', -10, 10),\n",
    "    algo=tpe.suggest,\n",
    "    max_evals=20,\n",
    "    trials=trials)\n",
    "print(best)"
   ]
  },
  {
   "cell_type": "code",
   "execution_count": 102,
   "metadata": {},
   "outputs": [
    {
     "data": {
      "text/plain": [
       "{'x': -0.620216756068114}"
      ]
     },
     "execution_count": 102,
     "metadata": {},
     "output_type": "execute_result"
    }
   ],
   "source": [
    "best"
   ]
  },
  {
   "cell_type": "code",
   "execution_count": 103,
   "metadata": {},
   "outputs": [
    {
     "data": {
      "text/plain": [
       "<hyperopt.base.Trials at 0x7f394fbe0eb8>"
      ]
     },
     "execution_count": 103,
     "metadata": {},
     "output_type": "execute_result"
    }
   ],
   "source": [
    "trials"
   ]
  },
  {
   "cell_type": "code",
   "execution_count": 104,
   "metadata": {},
   "outputs": [
    {
     "data": {
      "text/plain": [
       "[({'loss': 21.29482988255073, 'status': 'ok'}, {'x': [4.614632150296568]}),\n",
       " ({'loss': 88.42113174031475, 'status': 'ok'}, {'x': [-9.403251126090101]}),\n",
       " ({'loss': 80.58822978508573, 'status': 'ok'}, {'x': [-8.977094729648659]}),\n",
       " ({'loss': 56.89454378542909, 'status': 'ok'}, {'x': [7.542847193562196]}),\n",
       " ({'loss': 12.578645357887456, 'status': 'ok'}, {'x': [-3.546638599841751]}),\n",
       " ({'loss': 51.310397436710794, 'status': 'ok'}, {'x': [-7.163127629514275]}),\n",
       " ({'loss': 0.38466882450765444, 'status': 'ok'}, {'x': [-0.620216756068114]}),\n",
       " ({'loss': 2.6241423512844078, 'status': 'ok'}, {'x': [1.6199204768396527]}),\n",
       " ({'loss': 73.9022854834035, 'status': 'ok'}, {'x': [8.596643849980264]}),\n",
       " ({'loss': 0.39014245376631607, 'status': 'ok'}, {'x': [-0.6246138437197146]}),\n",
       " ({'loss': 81.22242886825498, 'status': 'ok'}, {'x': [9.012348687675981]}),\n",
       " ({'loss': 23.432074915599713, 'status': 'ok'}, {'x': [-4.840668850024727]}),\n",
       " ({'loss': 1.7936623335730666, 'status': 'ok'}, {'x': [-1.3392767949804352]}),\n",
       " ({'loss': 0.4951796539762508, 'status': 'ok'}, {'x': [0.7036900269125965]}),\n",
       " ({'loss': 6.500181608491447, 'status': 'ok'}, {'x': [-2.5495453729030686]}),\n",
       " ({'loss': 40.10823116912121, 'status': 'ok'}, {'x': [6.333105965410748]}),\n",
       " ({'loss': 17.380069693793764, 'status': 'ok'}, {'x': [-4.168941075836137]}),\n",
       " ({'loss': 66.10643113102229, 'status': 'ok'}, {'x': [8.130586149289748]}),\n",
       " ({'loss': 16.332790836660926, 'status': 'ok'}, {'x': [-4.041384767212957]}),\n",
       " ({'loss': 86.20900181701876, 'status': 'ok'}, {'x': [-9.284880280166178]})]"
      ]
     },
     "execution_count": 104,
     "metadata": {},
     "output_type": "execute_result"
    }
   ],
   "source": [
    "[(trials.trials[i]['result'], trials.trials[i]['misc']['vals'])  for i in range(len(trials.trials))]"
   ]
  },
  {
   "cell_type": "code",
   "execution_count": 92,
   "metadata": {},
   "outputs": [
    {
     "data": {
      "text/plain": [
       "{'state': 2,\n",
       " 'tid': 0,\n",
       " 'spec': None,\n",
       " 'result': {'loss': 19.595287947517047, 'status': 'ok'},\n",
       " 'misc': {'tid': 0,\n",
       "  'cmd': ('domain_attachment', 'FMinIter_Domain'),\n",
       "  'workdir': None,\n",
       "  'idxs': {'x': [0]},\n",
       "  'vals': {'x': [4.4266565201647445]}},\n",
       " 'exp_key': None,\n",
       " 'owner': None,\n",
       " 'version': 0,\n",
       " 'book_time': datetime.datetime(2019, 12, 14, 20, 19, 58, 755000),\n",
       " 'refresh_time': datetime.datetime(2019, 12, 14, 20, 19, 58, 755000)}"
      ]
     },
     "execution_count": 92,
     "metadata": {},
     "output_type": "execute_result"
    }
   ],
   "source": [
    "trials.trials[0]"
   ]
  },
  {
   "cell_type": "code",
   "execution_count": 137,
   "metadata": {},
   "outputs": [],
   "source": [
    "space = {'learning_rate':  hp.uniform('learning_rate', -10, 10)}"
   ]
  },
  {
   "cell_type": "code",
   "execution_count": 144,
   "metadata": {},
   "outputs": [],
   "source": [
    "def score(params):\n",
    "    x = np.float(params['learning_rate'])\n",
    "    y = x ** 2\n",
    "    \n",
    "    return {'loss': y, 'status': STATUS_OK}"
   ]
  },
  {
   "cell_type": "code",
   "execution_count": 145,
   "metadata": {},
   "outputs": [
    {
     "name": "stdout",
     "output_type": "stream",
     "text": [
      "100%|██████████| 20/20 [00:00<00:00, 793.06it/s, best loss: 0.09893986028245308]\n"
     ]
    }
   ],
   "source": [
    "best = fmin(fn=score,\n",
    "    space=space,\n",
    "    algo=tpe.suggest,\n",
    "    max_evals=20)"
   ]
  },
  {
   "cell_type": "code",
   "execution_count": 146,
   "metadata": {},
   "outputs": [
    {
     "data": {
      "text/plain": [
       "{'learning_rate': 0.3145470716481924}"
      ]
     },
     "execution_count": 146,
     "metadata": {},
     "output_type": "execute_result"
    }
   ],
   "source": [
    "best"
   ]
  },
  {
   "cell_type": "code",
   "execution_count": null,
   "metadata": {},
   "outputs": [],
   "source": []
  }
 ],
 "metadata": {
  "kernelspec": {
   "display_name": "Python 3",
   "language": "python",
   "name": "python3"
  },
  "language_info": {
   "codemirror_mode": {
    "name": "ipython",
    "version": 3
   },
   "file_extension": ".py",
   "mimetype": "text/x-python",
   "name": "python",
   "nbconvert_exporter": "python",
   "pygments_lexer": "ipython3",
   "version": "3.6.8"
  }
 },
 "nbformat": 4,
 "nbformat_minor": 2
}
